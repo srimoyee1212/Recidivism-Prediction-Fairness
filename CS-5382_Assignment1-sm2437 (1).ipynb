{
 "cells": [
  {
   "cell_type": "markdown",
   "metadata": {
    "id": "4jzZreWrixLw"
   },
   "source": [
    "# Assignment 1: Algorithmic Fairness Definitions"
   ]
  },
  {
   "cell_type": "code",
   "execution_count": 1,
   "metadata": {
    "id": "EeP6Crc-7OqT"
   },
   "outputs": [],
   "source": [
    "import pandas as pd\n",
    "from sklearn.linear_model import LogisticRegression\n",
    "from sklearn import metrics"
   ]
  },
  {
   "cell_type": "markdown",
   "metadata": {
    "id": "WozpzTb87OqV"
   },
   "source": [
    "This component of the assignment derives in part, with thanks and permission, from an [assignment](https://web.stanford.edu/class/cs182/assignments/AlgorithmicDecisionMaking.zip) in Stanford's CS182: Ethics, Public Policy, and Technological Change. Their assignment, in turn, is based on the journalistic organization ProPublica's [analysis](https://www.propublica.org/article/machine-bias-risk-assessments-in-criminal-sentencing) of a criminal risk prediction algorithm which we discussed in the algorithmic fairness lecture. Here, you will be assessing how a classifier designed to predict recidivism -- that is, whether someone will commit a crime in the future -- performs in terms of algorithmic fairness metrics."
   ]
  },
  {
   "cell_type": "markdown",
   "metadata": {
    "id": "sYAusEYY7OqV"
   },
   "source": [
    "## Problem 1: Loading the data (5 points)"
   ]
  },
  {
   "cell_type": "markdown",
   "metadata": {
    "id": "QfLjJqPj7OqW"
   },
   "source": [
    "We have split the data for you into a train set (`recidivism-training-data.csv`) and test set (`recidivism-testing-data.csv`). You will be training the model on the train set and evaluating model predictions on the test set."
   ]
  },
  {
   "cell_type": "markdown",
   "metadata": {
    "id": "vj6P51P87OqW",
    "tags": []
   },
   "source": [
    "1a. Read in the train and test sets. Display the first 10 rows of the data. (4 points)"
   ]
  },
  {
   "cell_type": "code",
   "execution_count": 2,
   "metadata": {
    "id": "lzE-3bb_7OqX"
   },
   "outputs": [],
   "source": [
    "train_data = pd.read_csv(\"/Users/srimoyee/Downloads/HW1_DueFeb8/recidivism-training-data.csv\")\n",
    "test_data = pd.read_csv(\"/Users/srimoyee/Downloads/HW1_DueFeb8/recidivism-testing-data.csv\")"
   ]
  },
  {
   "cell_type": "code",
   "execution_count": 3,
   "metadata": {
    "id": "FnQkf9zf7OqX"
   },
   "outputs": [
    {
     "data": {
      "text/html": [
       "<div>\n",
       "<style scoped>\n",
       "    .dataframe tbody tr th:only-of-type {\n",
       "        vertical-align: middle;\n",
       "    }\n",
       "\n",
       "    .dataframe tbody tr th {\n",
       "        vertical-align: top;\n",
       "    }\n",
       "\n",
       "    .dataframe thead th {\n",
       "        text-align: right;\n",
       "    }\n",
       "</style>\n",
       "<table border=\"1\" class=\"dataframe\">\n",
       "  <thead>\n",
       "    <tr style=\"text-align: right;\">\n",
       "      <th></th>\n",
       "      <th>Juvenile felony count = 0</th>\n",
       "      <th>Juvenile felony count = 1</th>\n",
       "      <th>Juvenile felony count = 2</th>\n",
       "      <th>Juvenile felony count &gt;= 3</th>\n",
       "      <th>Juvenile misdemeanor count = 0</th>\n",
       "      <th>Juvenile misdemeanor count = 1</th>\n",
       "      <th>Juvenile misdemeanor count = 2</th>\n",
       "      <th>Juvenile misdemeanor count &gt;= 3</th>\n",
       "      <th>Juvenile other offense count = 0</th>\n",
       "      <th>Juvenile other offense count = 1</th>\n",
       "      <th>...</th>\n",
       "      <th>Age &gt; 45</th>\n",
       "      <th>Gender = Female</th>\n",
       "      <th>Gender = Male</th>\n",
       "      <th>Race = Other</th>\n",
       "      <th>Race = Asian</th>\n",
       "      <th>Race = Native American</th>\n",
       "      <th>Race = Caucasian</th>\n",
       "      <th>Race = Hispanic</th>\n",
       "      <th>Race = African American</th>\n",
       "      <th>recidivism_outcome</th>\n",
       "    </tr>\n",
       "  </thead>\n",
       "  <tbody>\n",
       "    <tr>\n",
       "      <th>0</th>\n",
       "      <td>1</td>\n",
       "      <td>0</td>\n",
       "      <td>0</td>\n",
       "      <td>0</td>\n",
       "      <td>1</td>\n",
       "      <td>0</td>\n",
       "      <td>0</td>\n",
       "      <td>0</td>\n",
       "      <td>1</td>\n",
       "      <td>0</td>\n",
       "      <td>...</td>\n",
       "      <td>0</td>\n",
       "      <td>0</td>\n",
       "      <td>1</td>\n",
       "      <td>0</td>\n",
       "      <td>0</td>\n",
       "      <td>0</td>\n",
       "      <td>0</td>\n",
       "      <td>0</td>\n",
       "      <td>1</td>\n",
       "      <td>1</td>\n",
       "    </tr>\n",
       "    <tr>\n",
       "      <th>1</th>\n",
       "      <td>1</td>\n",
       "      <td>0</td>\n",
       "      <td>0</td>\n",
       "      <td>0</td>\n",
       "      <td>1</td>\n",
       "      <td>0</td>\n",
       "      <td>0</td>\n",
       "      <td>0</td>\n",
       "      <td>1</td>\n",
       "      <td>0</td>\n",
       "      <td>...</td>\n",
       "      <td>0</td>\n",
       "      <td>0</td>\n",
       "      <td>1</td>\n",
       "      <td>0</td>\n",
       "      <td>0</td>\n",
       "      <td>0</td>\n",
       "      <td>1</td>\n",
       "      <td>0</td>\n",
       "      <td>0</td>\n",
       "      <td>1</td>\n",
       "    </tr>\n",
       "    <tr>\n",
       "      <th>2</th>\n",
       "      <td>1</td>\n",
       "      <td>0</td>\n",
       "      <td>0</td>\n",
       "      <td>0</td>\n",
       "      <td>1</td>\n",
       "      <td>0</td>\n",
       "      <td>0</td>\n",
       "      <td>0</td>\n",
       "      <td>1</td>\n",
       "      <td>0</td>\n",
       "      <td>...</td>\n",
       "      <td>0</td>\n",
       "      <td>1</td>\n",
       "      <td>0</td>\n",
       "      <td>0</td>\n",
       "      <td>0</td>\n",
       "      <td>0</td>\n",
       "      <td>0</td>\n",
       "      <td>0</td>\n",
       "      <td>1</td>\n",
       "      <td>0</td>\n",
       "    </tr>\n",
       "    <tr>\n",
       "      <th>3</th>\n",
       "      <td>1</td>\n",
       "      <td>0</td>\n",
       "      <td>0</td>\n",
       "      <td>0</td>\n",
       "      <td>1</td>\n",
       "      <td>0</td>\n",
       "      <td>0</td>\n",
       "      <td>0</td>\n",
       "      <td>1</td>\n",
       "      <td>0</td>\n",
       "      <td>...</td>\n",
       "      <td>0</td>\n",
       "      <td>1</td>\n",
       "      <td>0</td>\n",
       "      <td>0</td>\n",
       "      <td>0</td>\n",
       "      <td>0</td>\n",
       "      <td>1</td>\n",
       "      <td>0</td>\n",
       "      <td>0</td>\n",
       "      <td>0</td>\n",
       "    </tr>\n",
       "    <tr>\n",
       "      <th>4</th>\n",
       "      <td>1</td>\n",
       "      <td>0</td>\n",
       "      <td>0</td>\n",
       "      <td>0</td>\n",
       "      <td>1</td>\n",
       "      <td>0</td>\n",
       "      <td>0</td>\n",
       "      <td>0</td>\n",
       "      <td>1</td>\n",
       "      <td>0</td>\n",
       "      <td>...</td>\n",
       "      <td>0</td>\n",
       "      <td>0</td>\n",
       "      <td>1</td>\n",
       "      <td>0</td>\n",
       "      <td>0</td>\n",
       "      <td>0</td>\n",
       "      <td>0</td>\n",
       "      <td>0</td>\n",
       "      <td>1</td>\n",
       "      <td>0</td>\n",
       "    </tr>\n",
       "    <tr>\n",
       "      <th>5</th>\n",
       "      <td>1</td>\n",
       "      <td>0</td>\n",
       "      <td>0</td>\n",
       "      <td>0</td>\n",
       "      <td>1</td>\n",
       "      <td>0</td>\n",
       "      <td>0</td>\n",
       "      <td>0</td>\n",
       "      <td>1</td>\n",
       "      <td>0</td>\n",
       "      <td>...</td>\n",
       "      <td>0</td>\n",
       "      <td>0</td>\n",
       "      <td>1</td>\n",
       "      <td>0</td>\n",
       "      <td>0</td>\n",
       "      <td>0</td>\n",
       "      <td>0</td>\n",
       "      <td>1</td>\n",
       "      <td>0</td>\n",
       "      <td>0</td>\n",
       "    </tr>\n",
       "    <tr>\n",
       "      <th>6</th>\n",
       "      <td>1</td>\n",
       "      <td>0</td>\n",
       "      <td>0</td>\n",
       "      <td>0</td>\n",
       "      <td>1</td>\n",
       "      <td>0</td>\n",
       "      <td>0</td>\n",
       "      <td>0</td>\n",
       "      <td>1</td>\n",
       "      <td>0</td>\n",
       "      <td>...</td>\n",
       "      <td>0</td>\n",
       "      <td>0</td>\n",
       "      <td>1</td>\n",
       "      <td>0</td>\n",
       "      <td>0</td>\n",
       "      <td>0</td>\n",
       "      <td>0</td>\n",
       "      <td>0</td>\n",
       "      <td>1</td>\n",
       "      <td>1</td>\n",
       "    </tr>\n",
       "    <tr>\n",
       "      <th>7</th>\n",
       "      <td>0</td>\n",
       "      <td>1</td>\n",
       "      <td>0</td>\n",
       "      <td>0</td>\n",
       "      <td>0</td>\n",
       "      <td>1</td>\n",
       "      <td>0</td>\n",
       "      <td>0</td>\n",
       "      <td>0</td>\n",
       "      <td>1</td>\n",
       "      <td>...</td>\n",
       "      <td>0</td>\n",
       "      <td>0</td>\n",
       "      <td>1</td>\n",
       "      <td>0</td>\n",
       "      <td>0</td>\n",
       "      <td>0</td>\n",
       "      <td>0</td>\n",
       "      <td>0</td>\n",
       "      <td>1</td>\n",
       "      <td>1</td>\n",
       "    </tr>\n",
       "    <tr>\n",
       "      <th>8</th>\n",
       "      <td>1</td>\n",
       "      <td>0</td>\n",
       "      <td>0</td>\n",
       "      <td>0</td>\n",
       "      <td>1</td>\n",
       "      <td>0</td>\n",
       "      <td>0</td>\n",
       "      <td>0</td>\n",
       "      <td>1</td>\n",
       "      <td>0</td>\n",
       "      <td>...</td>\n",
       "      <td>0</td>\n",
       "      <td>0</td>\n",
       "      <td>1</td>\n",
       "      <td>0</td>\n",
       "      <td>0</td>\n",
       "      <td>0</td>\n",
       "      <td>0</td>\n",
       "      <td>0</td>\n",
       "      <td>1</td>\n",
       "      <td>0</td>\n",
       "    </tr>\n",
       "    <tr>\n",
       "      <th>9</th>\n",
       "      <td>1</td>\n",
       "      <td>0</td>\n",
       "      <td>0</td>\n",
       "      <td>0</td>\n",
       "      <td>1</td>\n",
       "      <td>0</td>\n",
       "      <td>0</td>\n",
       "      <td>0</td>\n",
       "      <td>0</td>\n",
       "      <td>0</td>\n",
       "      <td>...</td>\n",
       "      <td>0</td>\n",
       "      <td>1</td>\n",
       "      <td>0</td>\n",
       "      <td>0</td>\n",
       "      <td>0</td>\n",
       "      <td>0</td>\n",
       "      <td>0</td>\n",
       "      <td>0</td>\n",
       "      <td>1</td>\n",
       "      <td>1</td>\n",
       "    </tr>\n",
       "  </tbody>\n",
       "</table>\n",
       "<p>10 rows × 42 columns</p>\n",
       "</div>"
      ],
      "text/plain": [
       "   Juvenile felony count = 0  Juvenile felony count = 1  \\\n",
       "0                          1                          0   \n",
       "1                          1                          0   \n",
       "2                          1                          0   \n",
       "3                          1                          0   \n",
       "4                          1                          0   \n",
       "5                          1                          0   \n",
       "6                          1                          0   \n",
       "7                          0                          1   \n",
       "8                          1                          0   \n",
       "9                          1                          0   \n",
       "\n",
       "   Juvenile felony count = 2  Juvenile felony count >= 3  \\\n",
       "0                          0                           0   \n",
       "1                          0                           0   \n",
       "2                          0                           0   \n",
       "3                          0                           0   \n",
       "4                          0                           0   \n",
       "5                          0                           0   \n",
       "6                          0                           0   \n",
       "7                          0                           0   \n",
       "8                          0                           0   \n",
       "9                          0                           0   \n",
       "\n",
       "   Juvenile misdemeanor count = 0  Juvenile misdemeanor count = 1  \\\n",
       "0                               1                               0   \n",
       "1                               1                               0   \n",
       "2                               1                               0   \n",
       "3                               1                               0   \n",
       "4                               1                               0   \n",
       "5                               1                               0   \n",
       "6                               1                               0   \n",
       "7                               0                               1   \n",
       "8                               1                               0   \n",
       "9                               1                               0   \n",
       "\n",
       "   Juvenile misdemeanor count = 2  Juvenile misdemeanor count >= 3  \\\n",
       "0                               0                                0   \n",
       "1                               0                                0   \n",
       "2                               0                                0   \n",
       "3                               0                                0   \n",
       "4                               0                                0   \n",
       "5                               0                                0   \n",
       "6                               0                                0   \n",
       "7                               0                                0   \n",
       "8                               0                                0   \n",
       "9                               0                                0   \n",
       "\n",
       "   Juvenile other offense count = 0  Juvenile other offense count = 1  ...  \\\n",
       "0                                 1                                 0  ...   \n",
       "1                                 1                                 0  ...   \n",
       "2                                 1                                 0  ...   \n",
       "3                                 1                                 0  ...   \n",
       "4                                 1                                 0  ...   \n",
       "5                                 1                                 0  ...   \n",
       "6                                 1                                 0  ...   \n",
       "7                                 0                                 1  ...   \n",
       "8                                 1                                 0  ...   \n",
       "9                                 0                                 0  ...   \n",
       "\n",
       "   Age > 45  Gender = Female  Gender = Male  Race = Other  Race = Asian  \\\n",
       "0         0                0              1             0             0   \n",
       "1         0                0              1             0             0   \n",
       "2         0                1              0             0             0   \n",
       "3         0                1              0             0             0   \n",
       "4         0                0              1             0             0   \n",
       "5         0                0              1             0             0   \n",
       "6         0                0              1             0             0   \n",
       "7         0                0              1             0             0   \n",
       "8         0                0              1             0             0   \n",
       "9         0                1              0             0             0   \n",
       "\n",
       "   Race = Native American  Race = Caucasian  Race = Hispanic  \\\n",
       "0                       0                 0                0   \n",
       "1                       0                 1                0   \n",
       "2                       0                 0                0   \n",
       "3                       0                 1                0   \n",
       "4                       0                 0                0   \n",
       "5                       0                 0                1   \n",
       "6                       0                 0                0   \n",
       "7                       0                 0                0   \n",
       "8                       0                 0                0   \n",
       "9                       0                 0                0   \n",
       "\n",
       "   Race = African American  recidivism_outcome  \n",
       "0                        1                   1  \n",
       "1                        0                   1  \n",
       "2                        1                   0  \n",
       "3                        0                   0  \n",
       "4                        1                   0  \n",
       "5                        0                   0  \n",
       "6                        1                   1  \n",
       "7                        1                   1  \n",
       "8                        1                   0  \n",
       "9                        1                   1  \n",
       "\n",
       "[10 rows x 42 columns]"
      ]
     },
     "execution_count": 3,
     "metadata": {},
     "output_type": "execute_result"
    }
   ],
   "source": [
    "train_data.head(10)"
   ]
  },
  {
   "cell_type": "code",
   "execution_count": 4,
   "metadata": {},
   "outputs": [
    {
     "data": {
      "text/html": [
       "<div>\n",
       "<style scoped>\n",
       "    .dataframe tbody tr th:only-of-type {\n",
       "        vertical-align: middle;\n",
       "    }\n",
       "\n",
       "    .dataframe tbody tr th {\n",
       "        vertical-align: top;\n",
       "    }\n",
       "\n",
       "    .dataframe thead th {\n",
       "        text-align: right;\n",
       "    }\n",
       "</style>\n",
       "<table border=\"1\" class=\"dataframe\">\n",
       "  <thead>\n",
       "    <tr style=\"text-align: right;\">\n",
       "      <th></th>\n",
       "      <th>Juvenile felony count = 0</th>\n",
       "      <th>Juvenile felony count = 1</th>\n",
       "      <th>Juvenile felony count = 2</th>\n",
       "      <th>Juvenile felony count &gt;= 3</th>\n",
       "      <th>Juvenile misdemeanor count = 0</th>\n",
       "      <th>Juvenile misdemeanor count = 1</th>\n",
       "      <th>Juvenile misdemeanor count = 2</th>\n",
       "      <th>Juvenile misdemeanor count &gt;= 3</th>\n",
       "      <th>Juvenile other offense count = 0</th>\n",
       "      <th>Juvenile other offense count = 1</th>\n",
       "      <th>...</th>\n",
       "      <th>Age &gt; 45</th>\n",
       "      <th>Gender = Female</th>\n",
       "      <th>Gender = Male</th>\n",
       "      <th>Race = Other</th>\n",
       "      <th>Race = Asian</th>\n",
       "      <th>Race = Native American</th>\n",
       "      <th>Race = Caucasian</th>\n",
       "      <th>Race = Hispanic</th>\n",
       "      <th>Race = African American</th>\n",
       "      <th>recidivism_outcome</th>\n",
       "    </tr>\n",
       "  </thead>\n",
       "  <tbody>\n",
       "    <tr>\n",
       "      <th>0</th>\n",
       "      <td>1</td>\n",
       "      <td>0</td>\n",
       "      <td>0</td>\n",
       "      <td>0</td>\n",
       "      <td>1</td>\n",
       "      <td>0</td>\n",
       "      <td>0</td>\n",
       "      <td>0</td>\n",
       "      <td>1</td>\n",
       "      <td>0</td>\n",
       "      <td>...</td>\n",
       "      <td>0</td>\n",
       "      <td>0</td>\n",
       "      <td>1</td>\n",
       "      <td>0</td>\n",
       "      <td>0</td>\n",
       "      <td>0</td>\n",
       "      <td>0</td>\n",
       "      <td>0</td>\n",
       "      <td>1</td>\n",
       "      <td>0</td>\n",
       "    </tr>\n",
       "    <tr>\n",
       "      <th>1</th>\n",
       "      <td>1</td>\n",
       "      <td>0</td>\n",
       "      <td>0</td>\n",
       "      <td>0</td>\n",
       "      <td>1</td>\n",
       "      <td>0</td>\n",
       "      <td>0</td>\n",
       "      <td>0</td>\n",
       "      <td>1</td>\n",
       "      <td>0</td>\n",
       "      <td>...</td>\n",
       "      <td>0</td>\n",
       "      <td>1</td>\n",
       "      <td>0</td>\n",
       "      <td>0</td>\n",
       "      <td>0</td>\n",
       "      <td>0</td>\n",
       "      <td>0</td>\n",
       "      <td>0</td>\n",
       "      <td>1</td>\n",
       "      <td>0</td>\n",
       "    </tr>\n",
       "    <tr>\n",
       "      <th>2</th>\n",
       "      <td>1</td>\n",
       "      <td>0</td>\n",
       "      <td>0</td>\n",
       "      <td>0</td>\n",
       "      <td>1</td>\n",
       "      <td>0</td>\n",
       "      <td>0</td>\n",
       "      <td>0</td>\n",
       "      <td>1</td>\n",
       "      <td>0</td>\n",
       "      <td>...</td>\n",
       "      <td>0</td>\n",
       "      <td>0</td>\n",
       "      <td>1</td>\n",
       "      <td>0</td>\n",
       "      <td>0</td>\n",
       "      <td>0</td>\n",
       "      <td>1</td>\n",
       "      <td>0</td>\n",
       "      <td>0</td>\n",
       "      <td>0</td>\n",
       "    </tr>\n",
       "    <tr>\n",
       "      <th>3</th>\n",
       "      <td>1</td>\n",
       "      <td>0</td>\n",
       "      <td>0</td>\n",
       "      <td>0</td>\n",
       "      <td>1</td>\n",
       "      <td>0</td>\n",
       "      <td>0</td>\n",
       "      <td>0</td>\n",
       "      <td>0</td>\n",
       "      <td>1</td>\n",
       "      <td>...</td>\n",
       "      <td>0</td>\n",
       "      <td>0</td>\n",
       "      <td>1</td>\n",
       "      <td>0</td>\n",
       "      <td>0</td>\n",
       "      <td>0</td>\n",
       "      <td>0</td>\n",
       "      <td>0</td>\n",
       "      <td>1</td>\n",
       "      <td>1</td>\n",
       "    </tr>\n",
       "    <tr>\n",
       "      <th>4</th>\n",
       "      <td>1</td>\n",
       "      <td>0</td>\n",
       "      <td>0</td>\n",
       "      <td>0</td>\n",
       "      <td>1</td>\n",
       "      <td>0</td>\n",
       "      <td>0</td>\n",
       "      <td>0</td>\n",
       "      <td>1</td>\n",
       "      <td>0</td>\n",
       "      <td>...</td>\n",
       "      <td>0</td>\n",
       "      <td>0</td>\n",
       "      <td>1</td>\n",
       "      <td>0</td>\n",
       "      <td>0</td>\n",
       "      <td>0</td>\n",
       "      <td>0</td>\n",
       "      <td>0</td>\n",
       "      <td>1</td>\n",
       "      <td>1</td>\n",
       "    </tr>\n",
       "    <tr>\n",
       "      <th>5</th>\n",
       "      <td>1</td>\n",
       "      <td>0</td>\n",
       "      <td>0</td>\n",
       "      <td>0</td>\n",
       "      <td>1</td>\n",
       "      <td>0</td>\n",
       "      <td>0</td>\n",
       "      <td>0</td>\n",
       "      <td>1</td>\n",
       "      <td>0</td>\n",
       "      <td>...</td>\n",
       "      <td>0</td>\n",
       "      <td>0</td>\n",
       "      <td>1</td>\n",
       "      <td>1</td>\n",
       "      <td>0</td>\n",
       "      <td>0</td>\n",
       "      <td>0</td>\n",
       "      <td>0</td>\n",
       "      <td>0</td>\n",
       "      <td>0</td>\n",
       "    </tr>\n",
       "    <tr>\n",
       "      <th>6</th>\n",
       "      <td>1</td>\n",
       "      <td>0</td>\n",
       "      <td>0</td>\n",
       "      <td>0</td>\n",
       "      <td>1</td>\n",
       "      <td>0</td>\n",
       "      <td>0</td>\n",
       "      <td>0</td>\n",
       "      <td>1</td>\n",
       "      <td>0</td>\n",
       "      <td>...</td>\n",
       "      <td>0</td>\n",
       "      <td>1</td>\n",
       "      <td>0</td>\n",
       "      <td>0</td>\n",
       "      <td>0</td>\n",
       "      <td>0</td>\n",
       "      <td>0</td>\n",
       "      <td>1</td>\n",
       "      <td>0</td>\n",
       "      <td>1</td>\n",
       "    </tr>\n",
       "    <tr>\n",
       "      <th>7</th>\n",
       "      <td>1</td>\n",
       "      <td>0</td>\n",
       "      <td>0</td>\n",
       "      <td>0</td>\n",
       "      <td>1</td>\n",
       "      <td>0</td>\n",
       "      <td>0</td>\n",
       "      <td>0</td>\n",
       "      <td>1</td>\n",
       "      <td>0</td>\n",
       "      <td>...</td>\n",
       "      <td>1</td>\n",
       "      <td>1</td>\n",
       "      <td>0</td>\n",
       "      <td>0</td>\n",
       "      <td>0</td>\n",
       "      <td>0</td>\n",
       "      <td>0</td>\n",
       "      <td>0</td>\n",
       "      <td>1</td>\n",
       "      <td>1</td>\n",
       "    </tr>\n",
       "    <tr>\n",
       "      <th>8</th>\n",
       "      <td>1</td>\n",
       "      <td>0</td>\n",
       "      <td>0</td>\n",
       "      <td>0</td>\n",
       "      <td>1</td>\n",
       "      <td>0</td>\n",
       "      <td>0</td>\n",
       "      <td>0</td>\n",
       "      <td>1</td>\n",
       "      <td>0</td>\n",
       "      <td>...</td>\n",
       "      <td>0</td>\n",
       "      <td>0</td>\n",
       "      <td>1</td>\n",
       "      <td>0</td>\n",
       "      <td>0</td>\n",
       "      <td>0</td>\n",
       "      <td>0</td>\n",
       "      <td>0</td>\n",
       "      <td>1</td>\n",
       "      <td>0</td>\n",
       "    </tr>\n",
       "    <tr>\n",
       "      <th>9</th>\n",
       "      <td>1</td>\n",
       "      <td>0</td>\n",
       "      <td>0</td>\n",
       "      <td>0</td>\n",
       "      <td>0</td>\n",
       "      <td>1</td>\n",
       "      <td>0</td>\n",
       "      <td>0</td>\n",
       "      <td>1</td>\n",
       "      <td>0</td>\n",
       "      <td>...</td>\n",
       "      <td>0</td>\n",
       "      <td>0</td>\n",
       "      <td>1</td>\n",
       "      <td>0</td>\n",
       "      <td>0</td>\n",
       "      <td>0</td>\n",
       "      <td>0</td>\n",
       "      <td>0</td>\n",
       "      <td>1</td>\n",
       "      <td>1</td>\n",
       "    </tr>\n",
       "  </tbody>\n",
       "</table>\n",
       "<p>10 rows × 42 columns</p>\n",
       "</div>"
      ],
      "text/plain": [
       "   Juvenile felony count = 0  Juvenile felony count = 1  \\\n",
       "0                          1                          0   \n",
       "1                          1                          0   \n",
       "2                          1                          0   \n",
       "3                          1                          0   \n",
       "4                          1                          0   \n",
       "5                          1                          0   \n",
       "6                          1                          0   \n",
       "7                          1                          0   \n",
       "8                          1                          0   \n",
       "9                          1                          0   \n",
       "\n",
       "   Juvenile felony count = 2  Juvenile felony count >= 3  \\\n",
       "0                          0                           0   \n",
       "1                          0                           0   \n",
       "2                          0                           0   \n",
       "3                          0                           0   \n",
       "4                          0                           0   \n",
       "5                          0                           0   \n",
       "6                          0                           0   \n",
       "7                          0                           0   \n",
       "8                          0                           0   \n",
       "9                          0                           0   \n",
       "\n",
       "   Juvenile misdemeanor count = 0  Juvenile misdemeanor count = 1  \\\n",
       "0                               1                               0   \n",
       "1                               1                               0   \n",
       "2                               1                               0   \n",
       "3                               1                               0   \n",
       "4                               1                               0   \n",
       "5                               1                               0   \n",
       "6                               1                               0   \n",
       "7                               1                               0   \n",
       "8                               1                               0   \n",
       "9                               0                               1   \n",
       "\n",
       "   Juvenile misdemeanor count = 2  Juvenile misdemeanor count >= 3  \\\n",
       "0                               0                                0   \n",
       "1                               0                                0   \n",
       "2                               0                                0   \n",
       "3                               0                                0   \n",
       "4                               0                                0   \n",
       "5                               0                                0   \n",
       "6                               0                                0   \n",
       "7                               0                                0   \n",
       "8                               0                                0   \n",
       "9                               0                                0   \n",
       "\n",
       "   Juvenile other offense count = 0  Juvenile other offense count = 1  ...  \\\n",
       "0                                 1                                 0  ...   \n",
       "1                                 1                                 0  ...   \n",
       "2                                 1                                 0  ...   \n",
       "3                                 0                                 1  ...   \n",
       "4                                 1                                 0  ...   \n",
       "5                                 1                                 0  ...   \n",
       "6                                 1                                 0  ...   \n",
       "7                                 1                                 0  ...   \n",
       "8                                 1                                 0  ...   \n",
       "9                                 1                                 0  ...   \n",
       "\n",
       "   Age > 45  Gender = Female  Gender = Male  Race = Other  Race = Asian  \\\n",
       "0         0                0              1             0             0   \n",
       "1         0                1              0             0             0   \n",
       "2         0                0              1             0             0   \n",
       "3         0                0              1             0             0   \n",
       "4         0                0              1             0             0   \n",
       "5         0                0              1             1             0   \n",
       "6         0                1              0             0             0   \n",
       "7         1                1              0             0             0   \n",
       "8         0                0              1             0             0   \n",
       "9         0                0              1             0             0   \n",
       "\n",
       "   Race = Native American  Race = Caucasian  Race = Hispanic  \\\n",
       "0                       0                 0                0   \n",
       "1                       0                 0                0   \n",
       "2                       0                 1                0   \n",
       "3                       0                 0                0   \n",
       "4                       0                 0                0   \n",
       "5                       0                 0                0   \n",
       "6                       0                 0                1   \n",
       "7                       0                 0                0   \n",
       "8                       0                 0                0   \n",
       "9                       0                 0                0   \n",
       "\n",
       "   Race = African American  recidivism_outcome  \n",
       "0                        1                   0  \n",
       "1                        1                   0  \n",
       "2                        0                   0  \n",
       "3                        1                   1  \n",
       "4                        1                   1  \n",
       "5                        0                   0  \n",
       "6                        0                   1  \n",
       "7                        1                   1  \n",
       "8                        1                   0  \n",
       "9                        1                   1  \n",
       "\n",
       "[10 rows x 42 columns]"
      ]
     },
     "execution_count": 4,
     "metadata": {},
     "output_type": "execute_result"
    }
   ],
   "source": [
    "test_data.head(10)"
   ]
  },
  {
   "cell_type": "markdown",
   "metadata": {
    "id": "w_0Y3zWC7OqY"
   },
   "source": [
    "1b. Read the data documentation in the `Algorithmic Fairness Data Documentation` file. What are the possible values of the `Race` variable in the dataset? (1 point)"
   ]
  },
  {
   "cell_type": "markdown",
   "metadata": {
    "id": "r3FVRqSt7OqZ"
   },
   "source": [
    "Answer:\n",
    "\n",
    "6 values: \n",
    "1. Other (i.e., none of the races below)\n",
    "2. Asian\n",
    "3. Native American\n",
    "4. Caucasian (same as “White” in the ProPublica analysis)\n",
    "5. Hispanic\n",
    "6. African-American (same as “Black” in the ProPublica analysis)"
   ]
  },
  {
   "cell_type": "markdown",
   "metadata": {
    "id": "wAllbD2S7OqZ"
   },
   "source": [
    "## Problem 2: Predicting Recidivism with a Full Logistic Regression (20 points)"
   ]
  },
  {
   "cell_type": "markdown",
   "metadata": {
    "id": "YNKxlUUMUMSL"
   },
   "source": [
    "Now you will use the train set to train a logistic regression model using `sklearn.linear_model.LogisticRegression`. To train a logistic regression model on features X to predict outcome y, you can use the command:\n",
    "\n",
    "`LogisticRegression(penalty='none').fit(X, y)`\n",
    "\n",
    "You will have to replace X and y with the data you actually want to use. [Here](https://scikit-learn.org/stable/modules/generated/sklearn.linear_model.LogisticRegression.html) is the documentation on logistic regression. Use the \"recidivism_outcome\" column as the variable you are trying to predict (y).\n",
    "\n",
    "Then, we will ask you to report model performance metrics. Use the test set to compute those quantities. You could take a look at helpful functions from the [scikit-learn metrics module](https://scikit-learn.org/stable/modules/model_evaluation.html), imported at the beginning of the assignment as `metrics`."
   ]
  },
  {
   "cell_type": "markdown",
   "metadata": {
    "id": "dqFgXUqK7Oqa"
   },
   "source": [
    "2a. Train a logistic regression model using all features (except `recidivism_outcome`) as input features X. (5 points)"
   ]
  },
  {
   "cell_type": "code",
   "execution_count": 5,
   "metadata": {
    "id": "nZ1EYyky2XGn"
   },
   "outputs": [
    {
     "data": {
      "text/plain": [
       "LogisticRegression(penalty='none')"
      ]
     },
     "execution_count": 5,
     "metadata": {},
     "output_type": "execute_result"
    }
   ],
   "source": [
    "y_train = train_data[\"recidivism_outcome\"]\n",
    "X_train = train_data.drop([\"recidivism_outcome\"], axis=1)\n",
    "lr_model = LogisticRegression(penalty='none')\n",
    "lr_model.fit(X_train, y_train)"
   ]
  },
  {
   "cell_type": "markdown",
   "metadata": {
    "id": "Z_KdiAkw7Oqb"
   },
   "source": [
    "2b. Predict recidivism for the test set. Display the first 10 predictions. (1 point)"
   ]
  },
  {
   "cell_type": "code",
   "execution_count": 6,
   "metadata": {
    "id": "bfvt5WUk7Oqb"
   },
   "outputs": [],
   "source": [
    "y_test = test_data[\"recidivism_outcome\"]\n",
    "X_test = test_data.drop([\"recidivism_outcome\"], axis=1)\n",
    "y_pred = lr_model.predict(X_test)\n",
    "y_prob = lr_model.predict_proba(X_test)[:,1]"
   ]
  },
  {
   "cell_type": "markdown",
   "metadata": {
    "id": "FMraWqT27Oqb"
   },
   "source": [
    "2c. Report your model's AUC (i) for all defendants, (ii) for white defendants, and (iii) for Black defendants. Report the values with 4 decimal points. (1 point)"
   ]
  },
  {
   "cell_type": "code",
   "execution_count": 7,
   "metadata": {
    "id": "5h0R0JZX7Oqc"
   },
   "outputs": [
    {
     "name": "stdout",
     "output_type": "stream",
     "text": [
      "AUC using class probabilities\n",
      "AUC for all defendants - 0.7247\n",
      "AUC for white defendants - 0.7369\n",
      "AUC for african american defendants - 0.6997\n"
     ]
    }
   ],
   "source": [
    "# AUC using class probabilities\n",
    "#all defendants\n",
    "auc_all_defendants = metrics.roc_auc_score(y_test, y_prob)\n",
    "\n",
    "#white defendants\n",
    "white_defendants_list = test_data[test_data[\"Race = Caucasian\"] == 1]\n",
    "white_defendants_index = white_defendants_list.index\n",
    "auc_white_defendants = metrics.roc_auc_score(y_test[white_defendants_index], y_prob[white_defendants_index])\n",
    "\n",
    "#african-american defendants\n",
    "african_american_defendants_list = test_data[test_data[\"Race = African American\"] == 1]\n",
    "african_american_defendants_index = african_american_defendants_list.index\n",
    "auc_african_american_defendants = metrics.roc_auc_score(y_test[african_american_defendants_index], y_prob[african_american_defendants_index])\n",
    "\n",
    "print(\"AUC using class probabilities\")\n",
    "print(f\"AUC for all defendants - {auc_all_defendants:.4f}\")\n",
    "print(f\"AUC for white defendants - {auc_white_defendants:.4f}\")\n",
    "print(f\"AUC for african american defendants - {auc_african_american_defendants:.4f}\")"
   ]
  },
  {
   "cell_type": "code",
   "execution_count": 8,
   "metadata": {},
   "outputs": [
    {
     "name": "stdout",
     "output_type": "stream",
     "text": [
      "AUC using class predictions\n",
      "AUC for all defendants - 0.6726\n",
      "AUC for white defendants - 0.6632\n",
      "AUC for african american defendants - 0.6564\n"
     ]
    }
   ],
   "source": [
    "# AUC using class predictions\n",
    "#all defendants\n",
    "auc_all_defendants = metrics.roc_auc_score(y_test, y_pred)\n",
    "\n",
    "#white defendants\n",
    "white_defendants_list = test_data[test_data[\"Race = Caucasian\"] == 1]\n",
    "white_defendants_index = white_defendants_list.index\n",
    "auc_white_defendants = metrics.roc_auc_score(y_test[white_defendants_index], y_pred[white_defendants_index])\n",
    "\n",
    "#african-american defendants\n",
    "african_american_defendants_list = test_data[test_data[\"Race = African American\"] == 1]\n",
    "african_american_defendants_index = african_american_defendants_list.index\n",
    "auc_african_american_defendants = metrics.roc_auc_score(y_test[african_american_defendants_index], y_pred[african_american_defendants_index])\n",
    "\n",
    "print(\"AUC using class predictions\")\n",
    "print(f\"AUC for all defendants - {auc_all_defendants:.4f}\")\n",
    "print(f\"AUC for white defendants - {auc_white_defendants:.4f}\")\n",
    "print(f\"AUC for african american defendants - {auc_african_american_defendants:.4f}\")"
   ]
  },
  {
   "cell_type": "markdown",
   "metadata": {
    "id": "oNSmG6jR7Oqc"
   },
   "source": [
    "2d. Report your model's false positive rate (i) for all defendants, (ii) for white defendants, and (iii) for Black defendants. Report the values with 4 decimal points. (1 point)"
   ]
  },
  {
   "cell_type": "code",
   "execution_count": 9,
   "metadata": {
    "id": "PW1N8jwR7Oqc"
   },
   "outputs": [
    {
     "name": "stdout",
     "output_type": "stream",
     "text": [
      "FPR for all defendants - 0.2821\n",
      "FPR for white defendants - 0.1719\n",
      "FPR for african american defendants - 0.4165\n"
     ]
    }
   ],
   "source": [
    "tn_all_defendants, fp_all_defendants, fn_all_defendants, tp_all_defendants = metrics.confusion_matrix(y_test, y_pred.round()).ravel()\n",
    "fpr_all_defendants = fp_all_defendants/(fp_all_defendants + tn_all_defendants)\n",
    "\n",
    "tn_white_defendants, fp_white_defendants, fn_white_defendants, tp_white_defendants = metrics.confusion_matrix(y_test[white_defendants_index], y_pred[white_defendants_index].round()).ravel()\n",
    "fpr_white_defendants = fp_white_defendants/(fp_white_defendants + tn_white_defendants)\n",
    "\n",
    "tn_african_american_defendants, fp_african_american_defendants, fn_african_american_defendants, tp_african_american_defendants = metrics.confusion_matrix(y_test[african_american_defendants_index], y_pred[african_american_defendants_index].round()).ravel()\n",
    "fpr_african_american_defendants = fp_african_american_defendants/(fp_african_american_defendants + tn_african_american_defendants)\n",
    "\n",
    "print(f\"FPR for all defendants - {fpr_all_defendants:.4f}\")\n",
    "print(f\"FPR for white defendants - {fpr_white_defendants:.4f}\")\n",
    "print(f\"FPR for african american defendants - {fpr_african_american_defendants:.4f}\")"
   ]
  },
  {
   "cell_type": "markdown",
   "metadata": {
    "id": "1juBJxnl7Oqd"
   },
   "source": [
    "2e. Report your model's false negative rate (i) for all defendants, (ii) for white defendants, and (iii) for Black defendants. Report the values with 4 decimal points. (1 point)"
   ]
  },
  {
   "cell_type": "code",
   "execution_count": 10,
   "metadata": {
    "id": "IYg1Mmjr7Oqd"
   },
   "outputs": [
    {
     "name": "stdout",
     "output_type": "stream",
     "text": [
      "FNR for all defendants - 0.3727\n",
      "FNR for white defendants - 0.5018\n",
      "FNR for african american defendants - 0.2707\n"
     ]
    }
   ],
   "source": [
    "fnr_all_defendants = fn_all_defendants/(fn_all_defendants + tp_all_defendants)\n",
    "fnr_white_defendants = fn_white_defendants/(fn_white_defendants + tp_white_defendants)\n",
    "fnr_african_american_defendants = fn_african_american_defendants/(fn_african_american_defendants + tp_african_american_defendants)\n",
    "\n",
    "print(f\"FNR for all defendants - {fnr_all_defendants:.4f}\")\n",
    "print(f\"FNR for white defendants - {fnr_white_defendants:.4f}\")\n",
    "print(f\"FNR for african american defendants - {fnr_african_american_defendants:.4f}\")"
   ]
  },
  {
   "cell_type": "markdown",
   "metadata": {
    "id": "x7Odx7Kb7Oqd"
   },
   "source": [
    "2f. Report the fraction of defendants classified positive by your model (i) for all defendants, (ii) for white defendants, and (iii) for Black defendants. Report the values with 4 decimal points. (1 point)"
   ]
  },
  {
   "cell_type": "code",
   "execution_count": 11,
   "metadata": {
    "id": "mti4o1MO7Oqe"
   },
   "outputs": [
    {
     "name": "stdout",
     "output_type": "stream",
     "text": [
      "Fraction for all defendants classified positive - 0.4362\n",
      "Fraction for white defendants classified positive - 0.2982\n",
      "Fraction for african american defendants classified positive - 0.5763\n"
     ]
    }
   ],
   "source": [
    "all_defendants_positive = (tp_all_defendants + fp_all_defendants)/ (fn_all_defendants+tn_all_defendants+tp_all_defendants+fp_all_defendants)\n",
    "white_defendants_positive = (tp_white_defendants + fp_white_defendants)/(tn_white_defendants + fp_white_defendants + fn_white_defendants + tp_white_defendants)\n",
    "african_american_defendants_positive = (tp_african_american_defendants + fp_african_american_defendants)/(tn_african_american_defendants + fp_african_american_defendants + fn_african_american_defendants + tp_african_american_defendants)\n",
    "\n",
    "print(f\"Fraction for all defendants classified positive - {all_defendants_positive:.4f}\")\n",
    "print(f\"Fraction for white defendants classified positive - {white_defendants_positive:.4f}\")\n",
    "print(f\"Fraction for african american defendants classified positive - {african_american_defendants_positive:.4f}\")"
   ]
  },
  {
   "cell_type": "markdown",
   "metadata": {
    "id": "Hj_-3ze7Wy_y"
   },
   "source": [
    "2g. In at least 5 sentences, describe what you observe, and any algorithmic fairness concerns it raises, making reference to specific algorithmic fairness concepts discussed in class and using quantitative evidence from 2c-f. Do you believe this algorithm is fair enough to be deployed in practice? Why or why not? (10 points)"
   ]
  },
  {
   "cell_type": "markdown",
   "metadata": {
    "id": "-Mqum2S57Oqe"
   },
   "source": [
    "Answer:\n",
    "\n",
    "I see several issues here such as even though the overall AUC for black defendants is higher, the other metrics are raising concerns. Firstly, the False Positive Rate for Black defendants(0.4165) is much higher than that of White defendants(0.1719), which means that there is a higher chance for Black defendants to be falsely tagged for re-offend or recidivate as compared to white defendants, infact its 2.4 times more likely that a Black defendant is falsely tagged to recidivate. Secondly, the False Negative Rate for White defendants is much higher than that of Black defendants. This could mean that, even White defendants who are likely to re-offend are not classified as such, whereas Black defendants are. This is an example of severe racial discrimination. It is clear that the data is biased against Black defendants. Furthermore, there is predictive inequality as the difference between False Positive Rate and False Negative Rate for a particular class(black or white) are differing vastly. Also the fraction of Black defendants classified as postitve (0.5763) is much higher than that of White defendants(0.2982). According to this algorithm, it is nearly twice as likely for a Black defendant to be classified as positive than a White defendant.\n",
    "\n",
    "This algorithm clearly perpetuates the existing racial bias present in society and if it were to be deployed in practice, it could cause serious harm due to incorrect predictions - either keep an innocent person in prison due to wrongly predicting they would recidivate, or releasing prisoners to would go on to commit more crimes. In both cases there are several ethical issues here. At its present form, the algorithm cannot be used as the sole determinant of recidivism. In order to be used, it has to be modified on the principles of algorithmic fairness, the data needs de-biasing and human input will be needed to make the final call on if a defendant is likely to recidivate based on the model's outputs."
   ]
  },
  {
   "cell_type": "markdown",
   "metadata": {
    "id": "bB2-Mapv7Oqe"
   },
   "source": [
    "## Problem 3: Predicting Recidivism with Your Own Model (15 points)"
   ]
  },
  {
   "cell_type": "markdown",
   "metadata": {
    "id": "34MZU8ry7Oqf"
   },
   "source": [
    "Now you will train your own model to predict recidivism."
   ]
  },
  {
   "cell_type": "markdown",
   "metadata": {
    "id": "qRz8dgHT7Oqf"
   },
   "source": [
    "3a. Train a model of your choice. You can choose any input features that should be used as well as any pre-processing technique. You are welcome to use models which are not logistic regression models, but if you want to use logistic regression, that's also fine! (2 points)"
   ]
  },
  {
   "cell_type": "code",
   "execution_count": 12,
   "metadata": {
    "id": "cTCSYvXV7Oqf"
   },
   "outputs": [],
   "source": [
    "from xgboost import XGBClassifier\n",
    "from sklearn.model_selection import GridSearchCV, StratifiedKFold\n",
    "import re\n",
    "from sklearn.preprocessing import StandardScaler\n",
    "import statistics"
   ]
  },
  {
   "cell_type": "code",
   "execution_count": 13,
   "metadata": {},
   "outputs": [],
   "source": [
    "train_data = pd.read_csv(\"/Users/srimoyee/Downloads/HW1_DueFeb8/recidivism-training-data.csv\")\n",
    "test_data = pd.read_csv(\"/Users/srimoyee/Downloads/HW1_DueFeb8/recidivism-testing-data.csv\")"
   ]
  },
  {
   "cell_type": "code",
   "execution_count": 14,
   "metadata": {},
   "outputs": [],
   "source": [
    "# removing columns that contain race information and other information highly correlated with race\n",
    "\n",
    "train_data_modified = train_data.drop(['Age < 25', 'Age >= 25 and <=45', 'Age > 45', 'Gender = Female', 'Gender = Male', 'Race = Other','Race = Asian', \n",
    "'Race = Native American', \n",
    "'Race = Caucasian', \n",
    "'Race = Hispanic', \n",
    "'Race = African American'], axis=1)\n",
    "test_data_modified = test_data.drop(['Age < 25', 'Age >= 25 and <=45', 'Age > 45', 'Gender = Female', 'Gender = Male', 'Race = Other','Race = Asian', \n",
    "'Race = Native American', \n",
    "'Race = Caucasian', \n",
    "'Race = Hispanic', \n",
    "'Race = African American'], axis=1)"
   ]
  },
  {
   "cell_type": "code",
   "execution_count": 15,
   "metadata": {},
   "outputs": [],
   "source": [
    "regex = re.compile(r\"\\[|\\]|<\", re.IGNORECASE)\n",
    "train_data_modified.columns = [regex.sub(\"_\", col) if any(x in str(col) for x in set(('[', ']', '<'))) else col for col in train_data_modified.columns.values]\n",
    "test_data_modified.columns = [regex.sub(\"_\", col) if any(x in str(col) for x in set(('[', ']', '<'))) else col for col in test_data_modified.columns.values]"
   ]
  },
  {
   "cell_type": "code",
   "execution_count": 16,
   "metadata": {},
   "outputs": [],
   "source": [
    "y_train=train_data_modified[\"recidivism_outcome\"]\n",
    "X_train=train_data_modified.drop([\"recidivism_outcome\"], axis=1)\n",
    "\n",
    "y_test=test_data_modified[\"recidivism_outcome\"]\n",
    "X_test = test_data_modified.drop([\"recidivism_outcome\"], axis=1)"
   ]
  },
  {
   "cell_type": "code",
   "execution_count": 17,
   "metadata": {},
   "outputs": [],
   "source": [
    "scaler = StandardScaler()\n",
    "X_train_scaled = scaler.fit_transform(X_train)\n",
    "X_test_scaled = scaler.transform(X_test)"
   ]
  },
  {
   "cell_type": "code",
   "execution_count": 18,
   "metadata": {},
   "outputs": [],
   "source": [
    "param_grid = {\n",
    "    'n_estimators': [100, 200, 500, 1000],\n",
    "    'max_depth': [1, 3, 5, 7],\n",
    "    'learning_rate': [0.001, 0.01, 0.05, 0.1]\n",
    "}"
   ]
  },
  {
   "cell_type": "code",
   "execution_count": 19,
   "metadata": {},
   "outputs": [],
   "source": [
    "XGB_model = XGBClassifier(objective='binary:logistic', eval_metric='auc', booster='gbtree')"
   ]
  },
  {
   "cell_type": "code",
   "execution_count": 20,
   "metadata": {},
   "outputs": [
    {
     "data": {
      "text/plain": [
       "GridSearchCV(cv=StratifiedKFold(n_splits=5, random_state=42, shuffle=True),\n",
       "             estimator=XGBClassifier(base_score=None, booster='gbtree',\n",
       "                                     callbacks=None, colsample_bylevel=None,\n",
       "                                     colsample_bynode=None,\n",
       "                                     colsample_bytree=None, device=None,\n",
       "                                     early_stopping_rounds=None,\n",
       "                                     enable_categorical=False,\n",
       "                                     eval_metric='auc', feature_types=None,\n",
       "                                     gamma=None, grow_policy=None,\n",
       "                                     importanc...\n",
       "                                     max_cat_to_onehot=None,\n",
       "                                     max_delta_step=None, max_depth=None,\n",
       "                                     max_leaves=None, min_child_weight=None,\n",
       "                                     missing=nan, monotone_constraints=None,\n",
       "                                     multi_strategy=None, n_estimators=None,\n",
       "                                     n_jobs=None, num_parallel_tree=None,\n",
       "                                     random_state=None, ...),\n",
       "             n_jobs=-1,\n",
       "             param_grid={'learning_rate': [0.001, 0.01, 0.05, 0.1],\n",
       "                         'max_depth': [1, 3, 5, 7],\n",
       "                         'n_estimators': [100, 200, 500, 1000]},\n",
       "             scoring='roc_auc')"
      ]
     },
     "execution_count": 20,
     "metadata": {},
     "output_type": "execute_result"
    }
   ],
   "source": [
    "cv = StratifiedKFold(n_splits=5, shuffle=True, random_state=42)\n",
    "grid_search = GridSearchCV(XGB_model, param_grid, scoring='roc_auc', cv=cv, n_jobs=-1)\n",
    "grid_search.fit(X_train_scaled, y_train)"
   ]
  },
  {
   "cell_type": "code",
   "execution_count": 21,
   "metadata": {},
   "outputs": [],
   "source": [
    "final_model = XGBClassifier(**grid_search.best_params_)"
   ]
  },
  {
   "cell_type": "code",
   "execution_count": 22,
   "metadata": {},
   "outputs": [],
   "source": [
    "final_model.fit(X_train_scaled, y_train)\n",
    "\n",
    "y_pred = final_model.predict(X_test_scaled)\n",
    "y_prob = final_model.predict_proba(X_test_scaled)[:, 1]"
   ]
  },
  {
   "cell_type": "markdown",
   "metadata": {
    "id": "CA0uJO8B7Oqf"
   },
   "source": [
    "3b. Report the model's performance on (i) all, (ii) white, and (iii) Black defendants, using whatever metrics you believe are appropriate (at least 2). You are also welcome to evaluate performance on other sensitive/protected groups. (4 points)"
   ]
  },
  {
   "cell_type": "code",
   "execution_count": 23,
   "metadata": {},
   "outputs": [],
   "source": [
    "white_defendants_list = test_data[test_data['Race = Caucasian'] == 1]\n",
    "white_defendants_true_values = y_test[white_defendants_list.index]\n",
    "white_defendants_predicted_probabilities = y_prob[white_defendants_list.index]\n",
    "white_defendants_predicted_classes = y_pred[white_defendants_list.index]\n",
    "\n",
    "african_american_defendants_list = test_data[test_data['Race = African American'] == 1]\n",
    "african_american_defendants_true_values = y_test[african_american_defendants_list.index]\n",
    "african_american_defendants_predicted_probabilities = y_prob[african_american_defendants_list.index]\n",
    "african_american_defendants_predicted_classes = y_pred[african_american_defendants_list.index]"
   ]
  },
  {
   "cell_type": "code",
   "execution_count": 24,
   "metadata": {
    "id": "habVsm587Oqg"
   },
   "outputs": [
    {
     "name": "stdout",
     "output_type": "stream",
     "text": [
      "AUC using class probabilities\n",
      "AUC for all defendents - 0.6926\n",
      "AUC for white defendents - 0.7095\n",
      "AUC for black defendents - 0.6633\n"
     ]
    }
   ],
   "source": [
    "# AUC using class probabilities\n",
    "\n",
    "print(\"AUC using class probabilities\")\n",
    "\n",
    "auc=metrics.roc_auc_score(y_test, y_prob)\n",
    "print(f\"AUC for all defendents - {auc:.4f}\")\n",
    "\n",
    "\n",
    "auc_white = metrics.roc_auc_score(white_defendants_true_values, white_defendants_predicted_probabilities)\n",
    "print(f\"AUC for white defendents - {auc_white:.4f}\")\n",
    "\n",
    "\n",
    "auc_black = metrics.roc_auc_score(african_american_defendants_true_values, african_american_defendants_predicted_probabilities)\n",
    "print(f\"AUC for black defendents - {auc_black:.4f}\")"
   ]
  },
  {
   "cell_type": "code",
   "execution_count": 25,
   "metadata": {},
   "outputs": [
    {
     "name": "stdout",
     "output_type": "stream",
     "text": [
      "AUC for using class predictions\n",
      "AUC for all defendents - 0.6441\n",
      "AUC for white defendents - 0.6454\n",
      "AUC for black defendents - 0.6244\n"
     ]
    }
   ],
   "source": [
    "# AUC using class predictions\n",
    "\n",
    "print(\"AUC for using class predictions\")\n",
    "\n",
    "auc_=metrics.roc_auc_score(y_test, y_pred)\n",
    "print(f\"AUC for all defendents - {auc_:.4f}\")\n",
    "\n",
    "auc_white = metrics.roc_auc_score(white_defendants_true_values, white_defendants_predicted_classes)\n",
    "print(f\"AUC for white defendents - {auc_white:.4f}\")\n",
    "\n",
    "\n",
    "auc_black = metrics.roc_auc_score(african_american_defendants_true_values, african_american_defendants_predicted_classes)\n",
    "print(f\"AUC for black defendents - {auc_black:.4f}\")"
   ]
  },
  {
   "cell_type": "code",
   "execution_count": 26,
   "metadata": {},
   "outputs": [
    {
     "name": "stdout",
     "output_type": "stream",
     "text": [
      "FPR for all defendants - 0.2988\n",
      "FPR for white defendants - 0.2321\n",
      "FPR for african american defendants - 0.3927\n"
     ]
    }
   ],
   "source": [
    "tn_all_defendants, fp_all_defendants, fn_all_defendants, tp_all_defendants = metrics.confusion_matrix(y_test, y_pred.round()).ravel()\n",
    "fpr_all_defendants = fp_all_defendants/(fp_all_defendants + tn_all_defendants)\n",
    "\n",
    "tn_white_defendants, fp_white_defendants, fn_white_defendants, tp_white_defendants = metrics.confusion_matrix(white_defendants_true_values, white_defendants_predicted_classes).ravel()\n",
    "fpr_white_defendants = fp_white_defendants/(fp_white_defendants + tn_white_defendants)\n",
    "\n",
    "tn_african_american_defendants, fp_african_american_defendants, fn_african_american_defendants, tp_african_american_defendants = metrics.confusion_matrix(african_american_defendants_true_values, african_american_defendants_predicted_classes).ravel()\n",
    "fpr_african_american_defendants = fp_african_american_defendants/(fp_african_american_defendants + tn_african_american_defendants)\n",
    "\n",
    "print(f\"FPR for all defendants - {fpr_all_defendants:.4f}\")\n",
    "print(f\"FPR for white defendants - {fpr_white_defendants:.4f}\")\n",
    "print(f\"FPR for african american defendants - {fpr_african_american_defendants:.4f}\")"
   ]
  },
  {
   "cell_type": "code",
   "execution_count": 27,
   "metadata": {},
   "outputs": [
    {
     "name": "stdout",
     "output_type": "stream",
     "text": [
      "FNR for all defendants - 0.4130\n",
      "FNR for white defendants - 0.4770\n",
      "FNR for african american defendants - 0.3585\n"
     ]
    }
   ],
   "source": [
    "fnr_all_defendants = fn_all_defendants/(fn_all_defendants + tp_all_defendants)\n",
    "fnr_white_defendants = fn_white_defendants/(fn_white_defendants + tp_white_defendants)\n",
    "fnr_african_american_defendants = fn_african_american_defendants/(fn_african_american_defendants + tp_african_american_defendants)\n",
    "\n",
    "print(f\"FNR for all defendants - {fnr_all_defendants:.4f}\")\n",
    "print(f\"FNR for white defendants - {fnr_white_defendants:.4f}\")\n",
    "print(f\"FNR for african american defendants - {fnr_african_american_defendants:.4f}\")"
   ]
  },
  {
   "cell_type": "code",
   "execution_count": 28,
   "metadata": {},
   "outputs": [
    {
     "name": "stdout",
     "output_type": "stream",
     "text": [
      "F1 score for all defendants - 0.5997\n",
      "F1 score for white defendants - 0.2982\n",
      "F1 score for african american - 0.6359\n"
     ]
    }
   ],
   "source": [
    "#F1 = 2 * TP / (2 * TP + FN + FP)\n",
    "\n",
    "f1_score_all_defendants = (2*tp_all_defendants)/(2*tp_all_defendants+fn_all_defendants+fp_all_defendants)\n",
    "f1_score_white_defendants = (2*tp_white_defendants)/(2*tp_white_defendants+fn_white_defendants+fp_white_defendants)\n",
    "f1_score_african_american_defendants = (2*tp_african_american_defendants)/(2*tp_african_american_defendants+fn_african_american_defendants+fp_african_american_defendants)\n",
    "\n",
    "print(f\"F1 score for all defendants - {f1_score_all_defendants:.4f}\")\n",
    "print(f\"F1 score for white defendants - {white_defendants_positive:.4f}\")\n",
    "print(f\"F1 score for african american - {f1_score_african_american_defendants:.4f}\")"
   ]
  },
  {
   "cell_type": "code",
   "execution_count": 29,
   "metadata": {},
   "outputs": [
    {
     "name": "stdout",
     "output_type": "stream",
     "text": [
      "Fraction for all defendants classified positive - 0.4274\n",
      "Fraction for white defendants classified positive - 0.3447\n",
      "Fraction for african american defendants classified positive - 0.5197\n"
     ]
    }
   ],
   "source": [
    "all_defendants_positive = (tp_all_defendants + fp_all_defendants)/ (fn_all_defendants+tn_all_defendants+tp_all_defendants+fp_all_defendants)\n",
    "white_defendants_positive = (tp_white_defendants + fp_white_defendants)/(tn_white_defendants + fp_white_defendants + fn_white_defendants + tp_white_defendants)\n",
    "african_american_defendants_positive = (tp_african_american_defendants + fp_african_american_defendants)/(tn_african_american_defendants + fp_african_american_defendants + fn_african_american_defendants + tp_african_american_defendants)\n",
    "\n",
    "print(f\"Fraction for all defendants classified positive - {all_defendants_positive:.4f}\")\n",
    "print(f\"Fraction for white defendants classified positive - {white_defendants_positive:.4f}\")\n",
    "print(f\"Fraction for african american defendants classified positive - {african_american_defendants_positive:.4f}\")"
   ]
  },
  {
   "cell_type": "markdown",
   "metadata": {
    "id": "Qx-2bXR97Oqg"
   },
   "source": [
    "3c. Write two paragraphs defending your model design choices, and explaining why you designed the model the way you did. Refer to results from 3b to provide evidence. You're welcome to write two paragraphs explaining why you don't think models should be used in criminal risk prediction at all - this is a reasonable perspective! - but you still need to provide quantitative or non-quantitative evidence to back up your claims. (9 points)"
   ]
  },
  {
   "cell_type": "markdown",
   "metadata": {
    "id": "wXEIIwp92XGr"
   },
   "source": [
    "While designing my own model, my focus was to reduce the predictive inequalites and difference in odds between the classes. I tried different models such as Random Forest and XGBoost. Out of the two XGBoost performed better. Furthermore, I did a bit of preliminary exploration and also learnt from the class lecture that there are often other factors that are strongly correlated with Race such as Age and Gender. Hence I dropped these before training my model. I also tried to use SMOTE (https://machinelearningmastery.com/smote-oversampling-for-imbalanced-classification/) to reduce the class imbalance a bit but it did not help so I left it out. I also modified the column names using regex because XGBoost was giving me an error in processing columns which has '[]' or other such characters. Further, since I was going to use the XGBoost classifier I used a Standard Scaler to scale my data before training the model.\n",
    "\n",
    "I used grid search cross validation to obtain the best possible parameters for my XGBoost classifier model and then used these parameters to define the model. I then used the model for prediction and obtained class predictions as well as class probabilities. I used AUC score, F1 score, False Positive Rate, False Negative Rate and Accuracy (fraction of positive classifications) as metrics to evaluate my model. As you can see, the overall AUC is higher as compared to the logistic regression model. Also the AUC for White and Black defendants is higher. Furthermore, there is more the difference between the FPR and TPR rates becomes narrower than when logistic regression is used. \n",
    "Here are the values again for better comparison:\n",
    "\n",
    "FPR -> A person who is not likely to re-offend is incorrectly labelled as likely to re-offend\n",
    "\n",
    "FPR values using Logistic Regression:   \n",
    "\n",
    "White: 0.1719  \n",
    "\n",
    "Black: 0.4165     \n",
    "\n",
    "FPR values using XGBoost:\n",
    "\n",
    "White: 0.2321\n",
    "\n",
    "Black: 0.3927\n",
    "\n",
    "FNR -> A person likely to re-offend is incorrectly labelled as not likely to do so\n",
    "\n",
    "FNR values using Logistic Regression:\n",
    "\n",
    "White: 0.5018\n",
    "\n",
    "Black: 0.2707                                             \n",
    "\n",
    "FNR values using XGBoost:\n",
    "\n",
    "White: 0.4770\n",
    "\n",
    "Black: 0.3585\n",
    "\n",
    "With the logistic regression model, there is a huge risk of very high number of false negatives(0.5018) for white defendants. What this means is that even when a white defendant recidivates, they are incorrectly labelled to not do so. The ethical implication of this is enormous and becomes even more critical if the degree of crime is severe.\n",
    "\n",
    "These values indicate that the XGBoost Model is more balanced in terms of FPR and FNR for African American defendants which is something I was trying to achieve. Furthermore, it tries to balance out the very high False Negative Rate for white defendants.\n",
    "\n",
    "I also used the F1 score in an attempt to understand the predictions better and a higher score for African American defendants meant that it was making good classifications for that particular class.\n",
    "\n",
    "I think models could be used in criminal risk prediction but they should not be considered the absolute ground truth and the decisions made by the models should not be finalised without human input. This is because as seen from the two very different types of models implemented above, there is an issue of bias in the data which becomes really hard to de-bias when the model is designed. These models are thus propagating existing racial biases in the society through biased datasets and amplifying them. Especially in critical scenarios like healthcare and criminal justice, one should always proceed with caution while using these models, and if they are used at all, the decisions must be reviewed and examined by humans/subject matter experts before finalising.\n",
    "\n",
    "I think the ProPublica Analysis gives an insight as to why there are several issues with deploying such models in the context of criminal justice. To add on to it, the metrics as highlighted above raise serious concerns with how accurate these models are. With hardly ~70% accuracy, it seems like a gamble on someone's life and freedom to treat these models' predictions as absolute ground truth and make decisions based on that.\n"
   ]
  },
  {
   "cell_type": "markdown",
   "metadata": {
    "id": "LZIGLBkz7Uqh"
   },
   "source": [
    "# Sources cited\n",
    "\n",
    "Please cite any sources used to complete this homework in the markdown cell below. Nobody remembers everything, and it's always a good idea to use documentation and online resources to ensure you're growing your skills.\n",
    "\n",
    "Note that copying text from generative AI technology, such as ChatGPT, will be considered plagiarism (and hence result in a 0 grade on this submission). You are allowed to use ChatGPT as a general educational resource (the same way you would a webpage, without copying from it). But if you used ChatGPT as an educational resource, you must include (a) your prompts, (b) ChatGPT's responses, and (c) your validation of why ChatGPT's response is correct; simply noting that the code makes sense does not suffice as an explanation."
   ]
  },
  {
   "cell_type": "markdown",
   "metadata": {
    "id": "OgQDBLKO8LK3"
   },
   "source": [
    "**ADD YOUR SOURCES HERE**\n",
    "\n",
    "1. https://stackoverflow.com/questions/48645846/pythons-xgoost-valueerrorfeature-names-may-not-contain-or\n",
    "2. https://towardsdatascience.com/predict-vs-predict-proba-scikit-learn-bdc45daa5972\n",
    "3. ChatGPT\n",
    "\n",
    "    prompt: how to print upto 4 decimal places in python\n",
    "    \n",
    "    answer: In Python, you can use the format() function or f-strings to print numbers with a specific number of decimal places. \n",
    "    \n",
    "    number = 3.141592653589793\n",
    "    \n",
    "    formatted_number = f\"{number:.4f}\"\n",
    "    \n",
    "    print(formatted_number)\n",
    "    \n",
    "    \n",
    " Reason/Validation: I needed a quick way to print the numbers upto 4 decimal places and I had forgotten the exact syntax. I just needed GPT's answer to verify what I already knew and implement it.\n",
    " \n",
    "4. https://datascience.stackexchange.com/questions/123922/different-accuracy-scores-with-sklearn-roc-auc-score-on-same-model-using-sklearn\n",
    "\n"
   ]
  },
  {
   "cell_type": "code",
   "execution_count": null,
   "metadata": {},
   "outputs": [],
   "source": []
  }
 ],
 "metadata": {
  "colab": {
   "provenance": []
  },
  "kernelspec": {
   "display_name": "Python 3 (ipykernel)",
   "language": "python",
   "name": "python3"
  },
  "language_info": {
   "codemirror_mode": {
    "name": "ipython",
    "version": 3
   },
   "file_extension": ".py",
   "mimetype": "text/x-python",
   "name": "python",
   "nbconvert_exporter": "python",
   "pygments_lexer": "ipython3",
   "version": "3.9.13"
  }
 },
 "nbformat": 4,
 "nbformat_minor": 1
}
